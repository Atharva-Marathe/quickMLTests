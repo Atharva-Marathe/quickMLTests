{
 "cells": [
  {
   "cell_type": "markdown",
   "metadata": {},
   "source": [
    "---\n",
    "\n",
    "_You are currently looking at **version 1.1** of this notebook. To download notebooks and datafiles, as well as get help on Jupyter notebooks in the Coursera platform, visit the [Jupyter Notebook FAQ](https://www.coursera.org/learn/python-machine-learning/resources/bANLa) course resource._\n",
    "\n",
    "---"
   ]
  },
  {
   "cell_type": "markdown",
   "metadata": {},
   "source": [
    "## Assignment 4 - Understanding and Predicting Property Maintenance Fines\n",
    "\n",
    "This assignment is based on a data challenge from the Michigan Data Science Team ([MDST](http://midas.umich.edu/mdst/)). \n",
    "\n",
    "The Michigan Data Science Team ([MDST](http://midas.umich.edu/mdst/)) and the Michigan Student Symposium for Interdisciplinary Statistical Sciences ([MSSISS](https://sites.lsa.umich.edu/mssiss/)) have partnered with the City of Detroit to help solve one of the most pressing problems facing Detroit - blight. [Blight violations](http://www.detroitmi.gov/How-Do-I/Report/Blight-Complaint-FAQs) are issued by the city to individuals who allow their properties to remain in a deteriorated condition. Every year, the city of Detroit issues millions of dollars in fines to residents and every year, many of these fines remain unpaid. Enforcing unpaid blight fines is a costly and tedious process, so the city wants to know: how can we increase blight ticket compliance?\n",
    "\n",
    "The first step in answering this question is understanding when and why a resident might fail to comply with a blight ticket. This is where predictive modeling comes in. For this assignment, your task is to predict whether a given blight ticket will be paid on time.\n",
    "\n",
    "All data for this assignment has been provided to us through the [Detroit Open Data Portal](https://data.detroitmi.gov/). **Only the data already included in your Coursera directory can be used for training the model for this assignment.** Nonetheless, we encourage you to look into data from other Detroit datasets to help inform feature creation and model selection. We recommend taking a look at the following related datasets:\n",
    "\n",
    "* [Building Permits](https://data.detroitmi.gov/Property-Parcels/Building-Permits/xw2a-a7tf)\n",
    "* [Trades Permits](https://data.detroitmi.gov/Property-Parcels/Trades-Permits/635b-dsgv)\n",
    "* [Improve Detroit: Submitted Issues](https://data.detroitmi.gov/Government/Improve-Detroit-Submitted-Issues/fwz3-w3yn)\n",
    "* [DPD: Citizen Complaints](https://data.detroitmi.gov/Public-Safety/DPD-Citizen-Complaints-2016/kahe-efs3)\n",
    "* [Parcel Map](https://data.detroitmi.gov/Property-Parcels/Parcel-Map/fxkw-udwf)\n",
    "\n",
    "___\n",
    "\n",
    "We provide you with two data files for use in training and validating your models: train.csv and test.csv. Each row in these two files corresponds to a single blight ticket, and includes information about when, why, and to whom each ticket was issued. The target variable is compliance, which is True if the ticket was paid early, on time, or within one month of the hearing data, False if the ticket was paid after the hearing date or not at all, and Null if the violator was found not responsible. Compliance, as well as a handful of other variables that will not be available at test-time, are only included in train.csv.\n",
    "\n",
    "Note: All tickets where the violators were found not responsible are not considered during evaluation. They are included in the training set as an additional source of data for visualization, and to enable unsupervised and semi-supervised approaches. However, they are not included in the test set.\n",
    "\n",
    "<br>\n",
    "\n",
    "**File descriptions** (Use only this data for training your model!)\n",
    "\n",
    "    readonly/train.csv - the training set (all tickets issued 2004-2011)\n",
    "    readonly/test.csv - the test set (all tickets issued 2012-2016)\n",
    "    readonly/addresses.csv & readonly/latlons.csv - mapping from ticket id to addresses, and from addresses to lat/lon coordinates. \n",
    "     Note: misspelled addresses may be incorrectly geolocated.\n",
    "\n",
    "<br>\n",
    "\n",
    "**Data fields**\n",
    "\n",
    "train.csv & test.csv\n",
    "\n",
    "    ticket_id - unique identifier for tickets\n",
    "    agency_name - Agency that issued the ticket\n",
    "    inspector_name - Name of inspector that issued the ticket\n",
    "    violator_name - Name of the person/organization that the ticket was issued to\n",
    "    violation_street_number, violation_street_name, violation_zip_code - Address where the violation occurred\n",
    "    mailing_address_str_number, mailing_address_str_name, city, state, zip_code, non_us_str_code, country - Mailing address of the violator\n",
    "    ticket_issued_date - Date and time the ticket was issued\n",
    "    hearing_date - Date and time the violator's hearing was scheduled\n",
    "    violation_code, violation_description - Type of violation\n",
    "    disposition - Judgment and judgement type\n",
    "    fine_amount - Violation fine amount, excluding fees\n",
    "    admin_fee - $20 fee assigned to responsible judgments\n",
    "state_fee - $10 fee assigned to responsible judgments\n",
    "    late_fee - 10% fee assigned to responsible judgments\n",
    "    discount_amount - discount applied, if any\n",
    "    clean_up_cost - DPW clean-up or graffiti removal cost\n",
    "    judgment_amount - Sum of all fines and fees\n",
    "    grafitti_status - Flag for graffiti violations\n",
    "    \n",
    "train.csv only\n",
    "\n",
    "    payment_amount - Amount paid, if any\n",
    "    payment_date - Date payment was made, if it was received\n",
    "    payment_status - Current payment status as of Feb 1 2017\n",
    "    balance_due - Fines and fees still owed\n",
    "    collection_status - Flag for payments in collections\n",
    "    compliance [target variable for prediction] \n",
    "     Null = Not responsible\n",
    "     0 = Responsible, non-compliant\n",
    "     1 = Responsible, compliant\n",
    "    compliance_detail - More information on why each ticket was marked compliant or non-compliant\n",
    "\n",
    "\n",
    "___\n",
    "\n",
    "## Evaluation\n",
    "\n",
    "Your predictions will be given as the probability that the corresponding blight ticket will be paid on time.\n",
    "\n",
    "The evaluation metric for this assignment is the Area Under the ROC Curve (AUC). \n",
    "\n",
    "Your grade will be based on the AUC score computed for your classifier. A model which with an AUROC of 0.7 passes this assignment, over 0.75 will recieve full points.\n",
    "___\n",
    "\n",
    "For this assignment, create a function that trains a model to predict blight ticket compliance in Detroit using `readonly/train.csv`. Using this model, return a series of length 61001 with the data being the probability that each corresponding ticket from `readonly/test.csv` will be paid, and the index being the ticket_id.\n",
    "\n",
    "Example:\n",
    "\n",
    "    ticket_id\n",
    "       284932    0.531842\n",
    "       285362    0.401958\n",
    "       285361    0.105928\n",
    "       285338    0.018572\n",
    "                 ...\n",
    "       376499    0.208567\n",
    "       376500    0.818759\n",
    "       369851    0.018528\n",
    "       Name: compliance, dtype: float32\n",
    "       \n",
    "### Hints\n",
    "\n",
    "* Make sure your code is working before submitting it to the autograder.\n",
    "\n",
    "* Print out your result to see whether there is anything weird (e.g., all probabilities are the same).\n",
    "\n",
    "* Generally the total runtime should be less than 10 mins. You should NOT use Neural Network related classifiers (e.g., MLPClassifier) in this question. \n",
    "\n",
    "* Try to avoid global variables. If you have other functions besides blight_model, you should move those functions inside the scope of blight_model.\n",
    "\n",
    "* Refer to the pinned threads in Week 4's discussion forum when there is something you could not figure it out."
   ]
  },
  {
   "cell_type": "code",
   "execution_count": 25,
   "metadata": {
    "collapsed": false
   },
   "outputs": [],
   "source": [
    "import pandas as pd\n",
    "import numpy as np\n",
    "\n",
    "def blight_model():\n",
    "    \n",
    "    # Your code here\n",
    "    dataframe=pd.read_csv('train.csv',encoding='ISO-8859-1').dropna(how='all',axis=1)\n",
    "    dataframe.describe()\n",
    "    \n",
    "    from sklearn import preprocessing\n",
    "#    transf_feat=['violator_name','violation_street_name','agency_name','violation_code','zip_code']\n",
    "    transf_feat=['agency_name','violation_code','zip_code']\n",
    "    enc=[None]*len(transf_feat)\n",
    "    for i,feat in enumerate(transf_feat):\n",
    "        enc[i]=preprocessing.LabelEncoder()\n",
    "        dataframe[feat]=enc[i].fit_transform(dataframe[feat].astype(str))\n",
    "\n",
    "    dataframe = dataframe[np.isfinite(dataframe['compliance'])]\n",
    "    \n",
    "    features_name= ['agency_name','fine_amount','late_fee','admin_fee','zip_code','violation_code','judgment_amount','discount_amount']\n",
    "    X = dataframe[features_name]\n",
    "    y = dataframe['compliance']\n",
    "    \n",
    "    from sklearn.ensemble import RandomForestClassifier\n",
    "    clf = RandomForestClassifier(n_estimators=500, max_depth=5,n_jobs=25,verbose=1).fit(X, y)\n",
    "    \n",
    "#    dataframe_test=pd.read_csv('readonly/test.csv',encoding='ISO-8859-1').dropna(how='all',axis=1)\n",
    "    dataframe_test=pd.read_csv('test.csv',encoding='ISO-8859-1').dropna(how='all',axis=1)\n",
    "    #dataframe_test.describe()\n",
    "   \n",
    "    for i,feat in enumerate(transf_feat):\n",
    "        if feat != 'agency_name':\n",
    "            import bisect\n",
    "            dataframe_test[feat] = dataframe_test[feat].map(lambda s: 'other' if s not in enc[i].classes_ else s)\n",
    "            le_classes = enc[i].classes_.tolist()\n",
    "            bisect.insort_left(le_classes, 'other')\n",
    "            enc[i].classes_ = le_classes\n",
    "        dataframe_test[feat]=enc[i].transform(dataframe_test[feat].astype(str))\n",
    "\n",
    "    X_test = dataframe_test[features_name]\n",
    "    y_test = clf.predict_proba(X_test)\n",
    "    prob=y_test[:,1]\n",
    "    \n",
    "    return pd.Series(prob,dataframe_test['ticket_id'])# Your answer here"
   ]
  },
  {
   "cell_type": "code",
   "execution_count": 26,
   "metadata": {
    "collapsed": false
   },
   "outputs": [
    {
     "name": "stderr",
     "output_type": "stream",
     "text": [
      "/opt/conda/lib/python3.6/site-packages/IPython/core/interactiveshell.py:2821: DtypeWarning: Columns (11,12,31) have mixed types. Specify dtype option on import or set low_memory=False.\n",
      "  if self.run_code(code, result):\n",
      "[Parallel(n_jobs=25)]: Done 150 tasks      | elapsed:   19.7s\n",
      "[Parallel(n_jobs=25)]: Done 400 tasks      | elapsed:   50.4s\n",
      "[Parallel(n_jobs=25)]: Done 500 out of 500 | elapsed:  1.0min finished\n"
     ]
    },
    {
     "name": "stdout",
     "output_type": "stream",
     "text": [
      "daje\n",
      "violation_code\n",
      "done\n",
      "daje\n",
      "zip_code\n",
      "done\n",
      "daje\n"
     ]
    },
    {
     "name": "stderr",
     "output_type": "stream",
     "text": [
      "[Parallel(n_jobs=25)]: Done 150 tasks      | elapsed:    1.5s\n",
      "[Parallel(n_jobs=25)]: Done 400 tasks      | elapsed:    3.7s\n",
      "[Parallel(n_jobs=25)]: Done 500 out of 500 | elapsed:    4.6s finished\n"
     ]
    }
   ],
   "source": [
    "blight_model()"
   ]
  },
  {
   "cell_type": "code",
   "execution_count": 9,
   "metadata": {
    "collapsed": false
   },
   "outputs": [
    {
     "name": "stderr",
     "output_type": "stream",
     "text": [
      "[Parallel(n_jobs=25)]: Done 150 tasks      | elapsed:    3.6s\n",
      "[Parallel(n_jobs=25)]: Done 400 tasks      | elapsed:    9.1s\n",
      "[Parallel(n_jobs=25)]: Done 500 out of 500 | elapsed:   10.7s finished\n"
     ]
    },
    {
     "name": "stdout",
     "output_type": "stream",
     "text": [
      "Accuracy of DT classifier on training set: 0.94\n"
     ]
    },
    {
     "data": {
      "image/png": "[encoded data removed]",
      "text/plain": [
       "<matplotlib.figure.Figure at 0x7fc931de0a90>"
      ]
     },
     "metadata": {},
     "output_type": "display_data"
    },
    {
     "name": "stdout",
     "output_type": "stream",
     "text": [
      "Feature importances: [ 0.00923067  0.06086976  0.48043901  0.          0.00273889  0.00240704\n",
      "  0.00411074  0.02027933  0.12597556  0.293949  ]\n"
     ]
    }
   ],
   "source": [
    "#print('Accuracy of DT classifier on training set: {:.2f}'\n",
    "#     .format(clf.score(X, y)))\n",
    "#from adspy_shared_utilities import plot_feature_importances\n",
    "#import matplotlib.pyplot as plt \n",
    "\n",
    "#plt.figure(figsize=(10,4), dpi=80)\n",
    "#plot_feature_importances(clf, features_name)\n",
    "#plt.show()\n",
    "\n",
    "#print('Feature importances: {}'.format(clf.feature_importances_))"
   ]
  },
  {
   "cell_type": "code",
   "execution_count": 27,
   "metadata": {
    "collapsed": false
   },
   "outputs": [
    {
     "data": {
      "image/png": "[encoded data removed]",
      "text/plain": [
       "<matplotlib.figure.Figure at 0x7f766619d6a0>"
      ]
     },
     "metadata": {},
     "output_type": "display_data"
    }
   ],
   "source": [
    "#y_test=clf.predict_proba(X_test)\n",
    "#plt.hist(y_train[0],bins=1000)\n",
    "#plt.show()\n",
    "#import matplotlib.pyplot as plt \n",
    "\n",
    "#plt.hist(a,bins=10)\n",
    "#plt.show()"
   ]
  },
  {
   "cell_type": "code",
   "execution_count": 14,
   "metadata": {
    "collapsed": true
   },
   "outputs": [],
   "source": [
    "#import bisect"
   ]
  },
  {
   "cell_type": "code",
   "execution_count": 19,
   "metadata": {
    "collapsed": false
   },
   "outputs": [
    {
     "data": {
      "text/plain": [
       "ticket_id\n",
       "284932    0.084044\n",
       "285362    0.029954\n",
       "285361    0.072695\n",
       "285338    0.068428\n",
       "285346    0.077491\n",
       "285345    0.068428\n",
       "285347    0.065755\n",
       "285342    0.255739\n",
       "285530    0.027674\n",
       "284989    0.037610\n",
       "285344    0.065755\n",
       "285343    0.027674\n",
       "285340    0.027674\n",
       "285341    0.064603\n",
       "285349    0.072367\n",
       "285348    0.066294\n",
       "284991    0.038464\n",
       "285532    0.038464\n",
       "285406    0.038464\n",
       "285001    0.031888\n",
       "285006    0.028426\n",
       "285405    0.029100\n",
       "285337    0.036184\n",
       "285496    0.065755\n",
       "285497    0.068428\n",
       "285378    0.029100\n",
       "285589    0.037610\n",
       "285585    0.066622\n",
       "285501    0.073848\n",
       "285581    0.029954\n",
       "            ...   \n",
       "376367    0.030223\n",
       "376366    0.040029\n",
       "376362    0.040029\n",
       "376363    0.066604\n",
       "376365    0.030223\n",
       "376364    0.040029\n",
       "376228    0.041309\n",
       "376265    0.041309\n",
       "376286    0.321717\n",
       "376320    0.040029\n",
       "376314    0.041309\n",
       "376327    0.332399\n",
       "376385    0.332399\n",
       "376435    0.354365\n",
       "376370    0.338607\n",
       "376434    0.064603\n",
       "376459    0.066984\n",
       "376478    0.020638\n",
       "376473    0.040029\n",
       "376484    0.018979\n",
       "376482    0.023121\n",
       "376480    0.021369\n",
       "376479    0.021369\n",
       "376481    0.021369\n",
       "376483    0.050606\n",
       "376496    0.019051\n",
       "376497    0.019051\n",
       "376499    0.072695\n",
       "376500    0.072695\n",
       "369851    0.259917\n",
       "dtype: float64"
      ]
     },
     "execution_count": 19,
     "metadata": {},
     "output_type": "execute_result"
    }
   ],
   "source": [
    "#a"
   ]
  },
  {
   "cell_type": "code",
   "execution_count": null,
   "metadata": {
    "collapsed": true
   },
   "outputs": [],
   "source": []
  }
 ],
 "metadata": {
  "coursera": {
   "course_slug": "python-machine-learning",
   "graded_item_id": "nNS8l",
   "launcher_item_id": "yWWk7",
   "part_id": "w8BSS"
  },
  "kernelspec": {
   "display_name": "Python 3",
   "language": "python",
   "name": "python3"
  },
  "language_info": {
   "codemirror_mode": {
    "name": "ipython",
    "version": 3
   },
   "file_extension": ".py",
   "mimetype": "text/x-python",
   "name": "python",
   "nbconvert_exporter": "python",
   "pygments_lexer": "ipython3",
   "version": "3.6.2"
  }
 },
 "nbformat": 4,
 "nbformat_minor": 2
}
